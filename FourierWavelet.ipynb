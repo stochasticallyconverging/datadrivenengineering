{
 "cells": [
  {
   "cell_type": "code",
   "execution_count": 65,
   "metadata": {
    "collapsed": true,
    "pycharm": {
     "name": "#%%\n"
    }
   },
   "outputs": [],
   "source": [
    "import os\n",
    "\n",
    "import numpy as np\n",
    "import matplotlib.pyplot as plt\n",
    "import pywt\n",
    "import scipy as sp"
   ]
  },
  {
   "cell_type": "markdown",
   "source": [
    "# Fourier and Wavelet Transforms notes from Brunton & Kutz, 2022"
   ],
   "metadata": {
    "collapsed": false,
    "pycharm": {
     "name": "#%% md\n"
    }
   }
  },
  {
   "cell_type": "markdown",
   "source": [
    "*Paraphrased from the Textbook*:\n",
    "\n",
    "A central concern of mathematical physics and engineering mathematics involves the transformation of equations into a coordinate system where expressions simplify, decouple and are amenable to computation and analysis. Perhaps the most foundational and ubiquitous coordinate transformation was introduced by Fourier in the early 1800s to investigate the theory of heat.\n",
    "\n",
    "Fourier introduced the concept that sine and cosine functions of increasing frequency provide an orthogonal basis for the space of solution functions. Indeed, the ***Fourier transform*** basis of sines and cosines are eigenfunctions of the heat equation, with the specific frequencies serving as the eigenvalues, determined by the geometry, and amplitudes determined by the boundary conditions.\n",
    "\n",
    "The ***fast Fourier transform*** has become the cornerstone of computational mathematics, enabling real-time image and audio compression, global communication networks, modern devices and hardware, numerical physics and engineering at scale and advanced data analysis.\n",
    "\n",
    "With increasingly complex problems, data sets and computational geometries, simple Fourier sine and cosine bases have given way to *tailored* bases, such as the data-driven SVD. In addition, related functions, called ***wavelets***, have been developed for advanced signal processing and compression efforts."
   ],
   "metadata": {
    "collapsed": false,
    "pycharm": {
     "name": "#%% md\n"
    }
   }
  },
  {
   "cell_type": "markdown",
   "source": [
    "## Fourier Series and Fourier Transforms"
   ],
   "metadata": {
    "collapsed": false,
    "pycharm": {
     "name": "#%% md\n"
    }
   }
  },
  {
   "cell_type": "markdown",
   "source": [
    "So we looked through SVDs last time. With the SVD, we first used our data matrix $A$ to compute the correlation matrices $A^{T}A$ and $AA^{T}$. $A^{T}A$ is the correlation matrix of A and $AA^{T}$ was the row-wise correlation matrix of A. Why does that matter? Well imagine that the rows are ordered by time and the columns are spatial variables. You want to \"decouple\" the time components away from the spatial components. After we computed our correlation matrices, we found an eigenbasis and set of eigenvalues for both $A^{T}A$ and $AA^{T}$, along with the eigenvalues that accompany each basis vector.\n",
    "\n",
    "Luckily for us, it turns that ${A^{T}A$ and $AA^{T}$ have the same eigenvalues, so we only have to worry about the different eigenbases for the column-wise and row-wise correlation matrices.\n",
    "\n",
    "Eigenbases don't necessarily have to be sets of list-like vectors, but can instead be eigenfunctions. Fourier series are a prime example of exactly this, so let's take a look at that.\n",
    "\n",
    "Fourier methods rely on the notion of a *Hilbert space*, which is essentially a generalization of the familiar vector space concept to include functions with infinitely many degrees of freedom.\n",
    "\n",
    "You don't have to intimately understand the idea of induced norms and function spaces to get the basic idea. In the prior SVD case, we are concerned with coordinate systems defined by a basis of orthogonal vectors from $R^{N}$ or $C^{N}$. In this case, we are going to be concerned with coordinate systems defined by a basis of orthogonal functions (which are also vectors).\n",
    "\n",
    "Just like we were interested in projecting vectors into a new coordinate system with SVD, we are going to be interested in projecting functions into a new coordinate system with Fourier methods. A *Fourier Series* representation of a function is its projection onto the orthogonal set of sine and cosine functions with integer period on the domain $[a, b]$."
   ],
   "metadata": {
    "collapsed": false,
    "pycharm": {
     "name": "#%% md\n"
    }
   }
  },
  {
   "cell_type": "markdown",
   "source": [
    "### Fourier Series and Fourier Transforms Notes"
   ],
   "metadata": {
    "collapsed": false,
    "pycharm": {
     "name": "#%% md\n"
    }
   }
  },
  {
   "cell_type": "markdown",
   "source": [
    "<p align=\"center\">\n",
    "    <img src=\"images\\Fourier2_-_restoration1.jpg\" caption=\"Rare\">\n",
    "</p>\n",
    "<p align = \"center\">\n",
    "    <figcaption align = \"center\"> Fig.1 - Rare Picture Of European Man Smiling </figcaption>\n",
    "</p>"
   ],
   "metadata": {
    "collapsed": false,
    "pycharm": {
     "name": "#%% md\n"
    }
   }
  },
  {
   "cell_type": "markdown",
   "source": [
    "If $f(x)$ is periodic and piecewise smooth, then it can be written in terms of a Fourier series, which is an infinite sum of cosines and sines of increasing frequency. In particular, if $f(x)$ is $2\\pi$-periodic, it may be written as\n",
    "\n",
    "$$ f(x) = \\frac{a_{0}}{2} + \\sum_{k=1}^{\\infty}(a_{k}cos(kx) + b_{k}sin(kx)). $$\n",
    "\n",
    "The coefficients $a_{k}$ and $b_{k}$ are the coordinates obtained by projecting f onto the orthogonal cosine and sine basis $\\{cos(kx),sin(kx)\\}_{0}^{\\infty}$:\n",
    "\n",
    "\\begin{aligned}\n",
    "a_{k} = \\frac{1}{\\pi}\\int_{-\\pi}^{\\pi}f(x)cos(kx)dx \\\\\n",
    "b_{k} = \\frac{1}{\\pi}\\int_{-\\pi}^{\\pi}f(x)sin(kx)dx\n",
    "\\end{aligned}\n",
    "\n",
    "In other words, the integrals may be rewritten in terms of the inner product as\n",
    "\n",
    "\\begin{aligned}\n",
    "    a_{k} = \\frac{1}{||cos(kx)||^{2}} \\langle f(x),cos(kx) \\rangle, \\\\\n",
    "    b_{k} = \\frac{1}{||sin(kx)||^{2}} \\langle f(x),sin(kx) \\rangle,\n",
    "\\end{aligned}\n",
    "\n",
    "where $||cos(kx)||^{2} = ||sin(kx)||^{2} = \\pi$. The factor of $\\frac{1}{\\pi}$ can be verified by numerically integrating $cos(x)^{2}$ and $sin(x)^{2}$ from $-\\pi$ to $\\pi$.\n",
    "\n",
    "We can generalize this to a Fourier series of an L-periodic function on $[0,L)$ with\n",
    "\n",
    "\\begin{aligned}\n",
    "f(x) = \\frac{a_{0}}{2} + \\sum_{k=1}^{\\infty}(a_{k}cos(\\frac{2\\pi kx}{L}) + b_{k}sin(\\frac{2\\pi kx}{L})), \\\\\n",
    "a_{k} = \\frac{2}{L}\\int_{0}^{L}f(x)cos(\\frac{2\\pi kx}{L})dx \\\\\n",
    "b_{k} = \\frac{2}{L}\\int_{0}^{L}f(x)sin(\\frac{2\\pi kx}{L})dx\n",
    "\\end{aligned}\n",
    "\n",
    "We can simplify this representation using Euler's formula $e^{ikx} = cos(kx) + isin(kx)$ to write a Fourier series in complex form with complex coefficients $c_{k} = \\alpha_{k} + i\\beta_{k}$:\n",
    "\n",
    "\\begin{aligned}\n",
    "f(x) = \\sum_{k = -\\infty}^{\\infty}(\\alpha_{k} + i\\beta_{k})(cos(kx) + isin(kx)) \\\\\n",
    "= (\\alpha_{0} + i\\beta_{0}) + \\sum_{k = 1}^{\\infty}[(\\alpha_{-k} + \\alpha_{k})cos(kx)+(\\beta_{-k} + \\beta_{k})sin(kx)] \\\\\n",
    "+ i\\sum_{k=1}^{\\infty}[(\\beta_{-k} + \\beta_{k})cos(kx)-(\\alpha_{-k}-\\alpha_{k})sin(kx)]\n",
    "\\end{aligned}.\n",
    "\n",
    "If $f(x)$ is real-valued, then $\\alpha_{-k} = \\alpha_{k}$ and $\\beta_{-k} = -\\beta_{k}$, so that $c_{-k} = \\overline{c}_{k}$.\n",
    "\n",
    "Thus, the functions $\\psi = e^{ikx}$ for $k \\in \\mathbb{Z}$ provide a basis for periodic, complex-valued functions on an interval $[0, 2\\pi)$.\n",
    "\n",
    "We can see that these functions are orthogonal:\n",
    "\n",
    "$\\langle \\psi_{j},\\psi_{k} \\rangle = \\int_{-\\pi}^{\\pi}e^{ijx}e^{-ikx}dx = \\int_{-\\pi}^{pi}e^{i(j-k)x}dx = \\left[\\frac{e^{i(j-k)x}}{i(j-k)}\\right]_{-\\pi}^{\\pi} = \\left\n",
    "                            \\begin{cases}\n",
    "                                0 \\quad &\\text{if} \\, j \\neq k \\\\\n",
    "                                2\\pi \\quad &\\text{if} \\, j = k\n",
    "                            \\end{cases}\n",
    "                          \\right.$\n",
    "\n",
    "So $\\langle \\psi_{j}, \\psi{k} \\rangle = 2\\pi \\delta_{jk}$, where $\\delta$ is the Kronecker delta function. Similarly, the functions $e^{i2\\pi kx / L}$ provide a basis for $L^{2}([0,L))$, the space of square integrable functions defined on $x \\in [0,L)$.\n",
    "\n",
    "As mentioned earlier, a Fourier series is just a change of coordinates of a function $f(x)$ into an infinite-dimensional orthogonal function space spanned by sines and cosines\n",
    "(i.e., $\\psi_{k} = e^{ikx} = cos(kx) + isin(kx))$:\n",
    "\n",
    "$f(x) = \\sum_{-\\infty}^{\\infty}c_{k}\\psi_{k}(x) = \\frac{1}{2\\pi}\\sum_{-\\infty}^{\\infty}\\langle f(x),\\psi_{k}(x) \\rangle \\psi_{k}(x)$.\n",
    "\n",
    "The coefficients are given by $c_{k} = \\frac{1}{2\\pi} \\langle f(x), \\psi_{k}(x) \\rangle$. The factor of $\\frac{1}{2\\pi}$ normalizes the projection by the square of the norm of $\\psi_{k}$."
   ],
   "metadata": {
    "collapsed": false,
    "pycharm": {
     "name": "#%% md\n"
    }
   }
  },
  {
   "cell_type": "code",
   "execution_count": 3,
   "outputs": [
    {
     "data": {
      "text/plain": "[]"
     },
     "execution_count": 3,
     "metadata": {},
     "output_type": "execute_result"
    },
    {
     "data": {
      "text/plain": "<Figure size 432x288 with 1 Axes>",
      "image/png": "[encoded data removed]"
     },
     "metadata": {
      "needs_background": "light"
     },
     "output_type": "display_data"
    }
   ],
   "source": [
    "# Define domain\n",
    "\n",
    "dx = 0.001\n",
    "L = np.pi\n",
    "x = L * np.arange(-1+dx, 1+dx, dx)\n",
    "n = len(x)\n",
    "nquart = int(np.floor(n/4))\n",
    "\n",
    "# Define hat function\n",
    "f = np.zeros_like(x)\n",
    "f[nquart:2*nquart] = (4/n)*np.arange(1,nquart+1)\n",
    "f[2*nquart:3*nquart] = np.ones(nquart) - (4/n)*np.arange(0,nquart)\n",
    "\n",
    "# Compute Fourier series\n",
    "A0 = np.sum(f * np.ones_like(x)) * dx\n",
    "fFS = A0/2\n",
    "\n",
    "A = np.zeros(20)\n",
    "B = np.zeros(20)\n",
    "for k in range(20):\n",
    "    A[k] = np.sum(f * np.cos(np.pi * (k+1) * x/L)) * dx  # Inner Product\n",
    "    B[k] = np.sum(f * np.sin(np.pi * (k+1) * x/L)) * dx\n",
    "    fFS = fFS + A[k] * np.cos((k+1)*np.pi*x/L)  +B[k]*np.sin((k+1)*np.pi*x/L)\n",
    "    plt.plot(x, fFS, '-')\n",
    "\n",
    "plt.plot()\n"
   ],
   "metadata": {
    "collapsed": false,
    "pycharm": {
     "name": "#%%\n"
    }
   }
  },
  {
   "cell_type": "code",
   "execution_count": 4,
   "outputs": [
    {
     "data": {
      "text/plain": "<Figure size 432x288 with 2 Axes>",
      "image/png": "[encoded data removed]"
     },
     "metadata": {
      "needs_background": "light"
     },
     "output_type": "display_data"
    }
   ],
   "source": [
    "# Plot amplitudes\n",
    "\n",
    "fFS = (A0/2) * np.ones_like(f)\n",
    "kmax = 100\n",
    "A = np.zeros(kmax)\n",
    "B = np.zeros(kmax)\n",
    "ERR = np.zeros(kmax)\n",
    "\n",
    "A[0] = A0/2\n",
    "ERR[0] = np.linalg.norm(f-fFS)/np.linalg.norm(f)\n",
    "\n",
    "for k in range(1,kmax):\n",
    "    A[k] = np.sum(f*np.cos(np.pi*k*x/L)) * dx\n",
    "    B[k] = np.sum(f*np.sin(np.pi*k*x/L)) * dx\n",
    "    fFS = fFS + A[k] * np.cos(k*np.pi*x/L) + B[k] * np.sin(k*np.pi*x/L)\n",
    "    ERR[k] = np.linalg.norm(f-fFS)/np.linalg.norm(f)\n",
    "\n",
    "thresh = np.median(ERR) * np.sqrt(kmax) * (4/np.sqrt(3))\n",
    "r = np.max(np.where(ERR > thresh))\n",
    "\n",
    "fig, axs = plt.subplots(2,1)\n",
    "axs[0].semilogy(np.arange(kmax),A,color='k',linewidth=2)\n",
    "axs[0].semilogy(r,A[r],'o',color='b',markersize=10)\n",
    "plt.sca(axs[0])\n",
    "plt.title(\"Fourier Coefficients\")\n",
    "\n",
    "axs[1].semilogy(np.arange(kmax),ERR,color='k',linewidth=2)\n",
    "axs[1].semilogy(r,ERR[r],'o',color='b',markersize=10)\n",
    "plt.sca(axs[1])\n",
    "plt.title(\"Error\")\n",
    "\n",
    "plt.show()"
   ],
   "metadata": {
    "collapsed": false,
    "pycharm": {
     "name": "#%%\n"
    }
   }
  },
  {
   "cell_type": "code",
   "execution_count": 7,
   "outputs": [
    {
     "data": {
      "text/plain": "<Figure size 432x288 with 1 Axes>",
      "image/png": "[encoded data removed]"
     },
     "metadata": {
      "needs_background": "light"
     },
     "output_type": "display_data"
    }
   ],
   "source": [
    "# Gibbs\n",
    "\n",
    "dx = 0.01\n",
    "L = 2*np.pi\n",
    "x = np.arange(0,L+dx,dx)\n",
    "n = len(x)\n",
    "nquart = int(np.floor(n/4))\n",
    "\n",
    "f = np.zeros_like(x)\n",
    "f[nquart:3*nquart] = 1\n",
    "\n",
    "A0 = np.sum(f * np.ones_like(x)) * dx * 2 / L\n",
    "fFS = A0/2 * np.ones_like(f)\n",
    "\n",
    "for k in range(1,100):\n",
    "    A[k] = np.sum(f * np.cos(2*np.pi*k*x/L)) * dx * 2 / L\n",
    "    B[k] = np.sum(f * np.sin(2*np.pi*k*x/L)) * dx * 2 / L\n",
    "    fFS = fFS + A[k]*np.cos(2*k*np.pi*x/L) + B[k]*np.sin(2*k*np.pi*x/L)\n",
    "\n",
    "plt.plot(x,f,color='k',linewidth=2)\n",
    "plt.plot(x, fFS,'-',color='r',linewidth=1.5)\n",
    "plt.show()"
   ],
   "metadata": {
    "collapsed": false,
    "pycharm": {
     "name": "#%%\n"
    }
   }
  },
  {
   "cell_type": "markdown",
   "source": [
    "#### Fourier Transform"
   ],
   "metadata": {
    "collapsed": false,
    "pycharm": {
     "name": "#%% md\n"
    }
   }
  },
  {
   "cell_type": "markdown",
   "source": [
    "While the Fourier series is defined for periodic functions, the Fourier transform integral is essentially the limit of a Fourier series as the length of the domain goes to infinity, which allows us to define a funciton defined on $(-\\infty, \\infty)$ without repeating.\n",
    "\n",
    "On the domain $x \\in [-L,L)$, the Fourier series is\n",
    "$ f(x) = \\sum_{-\\infty}^{\\infty} c_{k}e^{ik\\pi x/L} $\n",
    "\n",
    "with the coefficients given by\n",
    "\n",
    "$c_{k} = \\frac{1}{2L} \\langle f(x), \\psi_{k} \\rangle = \\frac{1}{2L}\\int_{-L}^{L}f(x)e^{-ik\\pi x/L}dx$.\n",
    "\n",
    "Restating the previous results, f(x) is now represented by a sum of sines and cosines with a discrete set of frequencies given by $\\omega_{k} = k\\pi / L$. Taking the limit as $L\\to\\infty$, these discrete frequencies become a continuous range of frequencies. Define $\\omega = k\\pi /L$, $\\Delta \\omega = \\pi / L$ and take the limit $L\\to\\infty$, so that $\\Delta \\omega\\to 0$:\n",
    "\n",
    "$f(x) = \\[\\lim_{\\Delta \\omega \\to 0} \\] \\sum_{k=-\\infty}^{\\infty}\\frac{\\Delta\\omega}{2\\pi}\\int_{-\\pi / \\Delta\\omega}^{\\pi / \\Delta\\omega} f(\\xi)e^{ik\\Delta\\omega\\xi}d\\xi  \\ e^{ik\\Delta\\omega}$\n",
    "\n",
    "When we take the limit, the integrand expression will become the Fourier transform of $f(x)$, denoted by $\\hat{f}(\\omega) \\triangleq \\mathcal{F}(f(x))$. In addition, the sumation with weight $\\Delta\\omega$ becomes a Riemann integral, resulting in the following:\n",
    "\n",
    "\\begin{aligned}\n",
    "\\hat{f}(\\omega) = \\mathcal{F}(f(x)) = \\int_{-\\infty}{\\infty}f(x)e^{-i\\omega x} dx \\\\\n",
    "f(x) = \\mathcal{F}^{-1}(\\hat{f}(\\omega)) = \\frac{1}{2\\pi}\\int_{-\\infty}^{\\infty}\\hat{f}(\\omega)e^{i\\omega x} d\\omega\n",
    "\\end{aligned}.\n",
    "\n",
    "These two integrals are known as the ***Fourier transform pair***. Both integrals converge as long as $\\int_{-\\infty}^{\\infty}|f(x)|dx \\lt \\infty$ and $\\int_{-\\infty}^{\\infty}|\\hat{f}(\\omega)|d\\omega \\lt \\infty$.\n",
    "\n",
    "The Fourier transform has a number of properties, including linearity and the behavior of derivatives functions in the Fourier transform domain."
   ],
   "metadata": {
    "collapsed": false,
    "pycharm": {
     "name": "#%% md\n"
    }
   }
  },
  {
   "cell_type": "markdown",
   "source": [
    "##### Fourier transforms of derivatives of functions\n",
    "\n",
    "The fourier transform of the derivative of a funciton is given by\n",
    "\n",
    "\\begin{aligned}\n",
    "\\mathcal{F} \\left( \\frac{d}{dx}f(x) \\right ) = \\int_{-\\infty}^{\\infty} \\overbrace{f'(x)}^{dv} \\overbrace{e^{-i\\omega x}}^{u} dx \\\\\n",
    "= \\left [ \\underbrace{f(x)e^{-i\\omega x}}_{uv} \\right ]_{-\\infty}^{\\infty} - \\int_{-\\infty}^{\\infty}\\underbrace{f(x)}_{v} \\left [ \\underbrace{-i\\omega e^{-i\\omega x}}_{du} \\right ] dx \\\\\n",
    "= i\\omega \\int_{-\\infty}^{\\infty} f(x)e^{-i\\omega x} dx \\\\\n",
    "= i\\omega \\mathcal{F}(f(x)).\n",
    "\\end{aligned}\n",
    "\n",
    "The formula for the Fourier transform of a higher derivative is given by\n",
    "\n",
    "$$\\mathcal{F} \\left (\\frac{d^{n}}{dx^{n}} f(x) \\right ) = i^{n}\\omega^{n} \\mathcal{F}(f(x)).$$\n",
    "\n",
    "##### Linearity of Fourier Transform\n",
    "\n",
    "The Fourier transform is a linear operator, so that\n",
    "\n",
    "$$\\mathcal{F}(\\alpha \\hat{f}(\\omega) + \\beta \\hat{g}(\\omega)) = \\alpha\\mathcal{F}^{-1}(\\hat{f}) + \\beta\\mathcal{F}(\\hat{g})$$\n",
    "\n",
    "and\n",
    "\n",
    "$$\\mathcal{F}^{-1}(\\alpha \\hat{f}(\\omega) + \\beta\\hat{g}(\\omega)) = \\alpha\\mathcal{F}^{-1}(\\hat{f}) + \\beta\\mathcal{F}^{-1}(\\hat{g})$$\n",
    "\n",
    "##### Parseval's Theorem\n",
    "\n",
    "The Fourier transform preserves the $L_{2}$-norm, up to a constant. This is closely related to unitarity, so that two functions will retain the same inner product before and after the Fourier transform. This property is useful for approximation and truncation, providing the ability to bound error at a given truncation.\n",
    "\n",
    "$$\\int_{-\\infty}^{\\infty}|\\hat{f}(\\omega)|^{2} d\\omega = 2\\pi \\int_{-\\infty}^{\\infty}|f(x)|^{2}dx.$$\n"
   ],
   "metadata": {
    "collapsed": false,
    "pycharm": {
     "name": "#%% md\n"
    }
   }
  },
  {
   "cell_type": "markdown",
   "source": [
    "##### Convolution\n",
    "\n",
    "The convolution of two functions is very well-behaved in the Fourier domain, being the product of the two Fourier-transformed functions.\n",
    "\n",
    "We define the convolution of two functions $f(x)$ and $g(x)$ as $f \\ast g$:\n",
    "\n",
    "$$(f \\ast g)(x)=\\int_{-\\infty}^{\\infty}f(x-\\xi)g(\\xi)d\\xi.$$\n",
    "\n",
    "If we let $\\hat{f} = \\mathcal{F}(f)$ and $\\hat{g} = \\mathcal{F}(g)$, then\n",
    "\n",
    "\\begin{aligned}\n",
    "\\mathcal{F}^{-1}(\\hat{f}\\hat{g})(x)=\\frac{1}{2\\pi}\\int_{-\\infty}^{\\infty}\\hat{f}(\\omega)\\hat{g}(\\omega)e^{i\\omega x}d\\omega \\\\\n",
    "=\\int_{-\\infty}^{\\infty}\\hat{f}(\\omega)e^{i\\omega x} \\left (\\frac{1}{2\\pi}\\int_{-\\infty}^{\\infty}g(y)e^{-i\\omega y}dy \\right )d\\omega \\\\\n",
    "=\\frac{1}{2\\pi}\\int_{-\\infty}^{\\infty}\\int_{-\\infty}^{\\infty}g(y)\\hat{f}(\\omega)e^{i\\omega(x-y)}d\\omega dy \\\\\n",
    "=\\int_{-\\infty}^{\\infty}g(y) \\left (\\underbrace{\\frac{1}{2\\pi}\\int_{-\\infty}^{\\infty}\\hat{f}(\\omega)e^{i\\omega(x-y)}d\\omega}_{f(x-y)} \\right ) dy \\\\\n",
    "=\\int_{-\\infty}^{\\infty}g(y)f(x-y)dy = g \\ast f = f \\ast g.\n",
    "\\end{aligned}\n",
    "\n",
    "Thus, multiplying functions in the frequency domain is the same as convolving functions in the spatial domain."
   ],
   "metadata": {
    "collapsed": false,
    "pycharm": {
     "name": "#%% md\n"
    }
   }
  },
  {
   "cell_type": "markdown",
   "source": [
    "#### Discrete Fourier Transform\n",
    "\n",
    "Until now, we have considered the Fourier series and Fourier transform for continuous functions $f(x)$. However, when computing or working with real data, it is necessary to approximate the Fourier transform on discrete vectors of data. The resulting discrete Dourier transfort (DFT) is essentially a discretized version of the Fourier series for vectors of data $\\bold{f} = [f_{1} \\ f_{2} \\ f_{3} \\ ... \\ f_{n}]^{T}$ obtained by discretizing the function $f(x)$ at a regular spacing, denoted $\\Delta x$.\n",
    "\n",
    "Though the DFT is tremendously useful for numerical approximation and computation, it does not scale well to very large $n \\gg 1$, as the simple formulation involves multiplication by a dense n x n matrix, requiring $\\mathcal{O}(n^{2})$ operations.\n",
    "\n",
    "In 1965, James W. Cooley and John W. Tukey developed the fast Fourier transform (FFT) algorithm [technically originally created by Gauss in 1805] that scales as $\\mathcal{O}(n \\ log(n))$. As n becomes very large, the log(n) component grows slowly, and the algorithm approaches a linear scaling. Their algorithm was based on a fractal symmetry in the Fourier transform that allows an n-dimensional DFT to be solved with a number of lower-dimensional DFT computations.\n",
    "\n",
    "Although we will always use the FFT for computations, it is illustrative to begin with the simplest formulation of the DFT. The discrete Fourier transform is given by\n",
    "\n",
    "$$\\hat{f}_{k} = \\sum_{j=0}^{n-1}f_{j}e^{-i2\\pi jk/n},$$\n",
    "\n",
    "and the inverse discrete Fourier transform (iDFT) is given by\n",
    "\n",
    "$$f_{k} = \\frac{1}{n}\\sum_{j=0}^{n-1}\\hat{f}_{j}e^{i2\\pi jk/n}.$$\n",
    "\n",
    "Thus, the DFT is a linear operator (i.e., a matrix) that maps the data points in $\\bold{f}$ to the frequency domain $\\bold{\\hat{f}}$:\n",
    "\n",
    "$$\\{f_{1},f_{2},...,f_{n}\\} \\overset{DFT}{\\implies} \\{\\hat{f_{1}},\\hat{f_{2}},...,\\hat{f_{n}\\}$$\n",
    "\n",
    "For a given number of points n, the DFT represents the data using sine and cosine functions with integer multiples of a fundamental frequency, $\\omega_{n} = e^{-2\\pi i/n}$. The DFT may be computed by left-multiplying $\\bold{f}$ by the following Vandermonde matrix:\n",
    "\n",
    "$$\n",
    "\\[\n",
    "  \\left[ {\\begin{array}{ccccc}\n",
    "    1 & 1 & 1 & \\cdots & 1\\\\\n",
    "    1 & \\omega_{n} & \\omega_{n}^{2} & \\cdots & \\omega_{n}^{n-1} \\\\\n",
    "    1 & \\omega_{n}^{2} & \\omega_{n}^{4} & \\cdots & \\omega_{n}^{2(n-1)} \\\\\n",
    "    \\vdots & \\vdots & \\vdots & \\ddots & \\vdots\\\\\n",
    "    1 & \\omega_{n}^{n-1} & \\omega_{n}^{2(n-1)} & \\cdots & \\omega_{n}^{(n-1)^{2}}\\\\\n",
    "  \\end{array} } \\right]\n",
    "\\]\n",
    "$$\n",
    "\n",
    "The output vector $\\bold{\\hat{f}}$ contains the Fourier coefficients for the input vector $\\bold{f}$, and the DFT matrix $\\bold{F}$ is a unitary Vandermonde matrix. The matrix $\\bold{F}$ is complex-valued, so the output $\\bold{\\hat{f}}$ has both a magnitude and a phase.\n",
    "\n",
    "The code below generates the discrete Fourier transform matrix in three different ways.\n"
   ],
   "metadata": {
    "collapsed": false,
    "pycharm": {
     "name": "#%% md\n"
    }
   }
  },
  {
   "cell_type": "code",
   "execution_count": 14,
   "outputs": [
    {
     "name": "stderr",
     "output_type": "stream",
     "text": [
      "C:\\Users\\kthompson395\\AppData\\Local\\Temp\\ipykernel_6860\\3685809175.py:9: ComplexWarning: Casting complex values to real discards the imaginary part\n",
      "  F[i, k] = w**(i*k)\n"
     ]
    },
    {
     "data": {
      "text/plain": "array([[1.        , 1.        , 1.        , ..., 1.        , 1.        ,\n        1.        ],\n       [1.        , 0.99969882, 0.99879546, ..., 0.99729046, 0.99879546,\n        0.99969882],\n       [1.        , 0.99879546, 0.99518473, ..., 0.98917651, 0.99518473,\n        0.99879546],\n       ...,\n       [1.        , 0.99518473, 0.98078528, ..., 0.95694034, 0.98078528,\n        0.99518473],\n       [1.        , 0.99729046, 0.98917651, ..., 0.97570213, 0.98917651,\n        0.99729046],\n       [1.        , 0.99879546, 0.99518473, ..., 0.98917651, 0.99518473,\n        0.99879546]])"
     },
     "execution_count": 14,
     "metadata": {},
     "output_type": "execute_result"
    }
   ],
   "source": [
    "# Generate discrete Fourier transform matrix\n",
    "n = 256\n",
    "w = np.exp(-1j * 2 * np.pi / n)\n",
    "F = np.zeros((n,n))\n",
    "\n",
    "# Slow\n",
    "for i in range(n):\n",
    "    for k in range(n):\n",
    "        F[i, k] = w**(i*k)\n",
    "\n",
    "F = np.real(F)\n",
    "\n",
    "# Fast\n",
    "J, K = np.meshgrid(np.arange(n), np.arange(n))\n",
    "F = np.power(w,J*K)\n",
    "F = np.real(F)\n",
    "\n",
    "# Kevin's Alternative\n",
    "w = np.power(w, np.arange(0,n-1,1))\n",
    "F = np.vander(w,n, increasing=True)\n",
    "F_real_part = np.real(F)\n",
    "F_real_part"
   ],
   "metadata": {
    "collapsed": false,
    "pycharm": {
     "name": "#%%\n"
    }
   }
  },
  {
   "cell_type": "markdown",
   "source": [
    "#### Fast Fourier Transform\n",
    "\n",
    "Multiplying by the DFT matrix $F$ involves $\\mathcal{O}(n^{2})$ operations. Thankfully, the fast Fourier transform comes to the rescue, but there isn't just one implementation of the FFT, but several. Let's investigate some right here, right now. This is going to include material outside of the Brunton and Kutz book, but I believe it is worth investigating.\n",
    "\n",
    "##### Some Preliminaries\n",
    "\n",
    "Let's first get a couple of definitions out of the way. A number is a composite number if it is a positive integer that can be formed by multiplying two smaller positive integers. Every positive integer is composite, prime or the unit 1. If a number is prime, then its only divisors are itself and 1. One of the core theorems of mathematics is the ***Fundamental Theorem of Arithmetic***, which asserts that every positive integer may be factored into a product of prime numbers.\n",
    "\n",
    "For example, the last expression on each of the following lines is a prime factorization of 27, 51 and 8, respectively:\n",
    "\n",
    "\\begin{aligned}\n",
    "27 = 3 \\times 9 = 3 \\times 3 \\times 3 \\\\\n",
    "51 = 3 \\times 17 \\\\\n",
    "8 = 2 \\times 2 \\times 2 \\\\\n",
    "\\end{aligned}\n",
    "\n",
    "When we say that an integer number is ***n-smooth***, we mean that its prime factors are all less-then-or-equal-to n. So 27 is 3-smooth, 29-smooth, 2908392013902-smooth, and so on, but it isn't 2-smooth. 51 is 17-smooth, but it isn't 3-smooth. 8 is 2-smooth.\n",
    "\n",
    "Intuitively, you can think of the value of n in the n-smoothness of a number as being inversely related to how \"smooth\" a number is. For example, 8 is smoother than 51. Think of the factors in the prime factorization as grains of sand. If the grains of sand become so big that they are pebbles or boulders, then we wouldn't think of the \"sand\" as smooth.\n",
    "\n",
    "The reason we care about n-smoothness here is that FFT algorithms recursively break down the DFT problem of a given size N into problems the size of its factors. The \"smoother\" N is, the smaller the each individual sub-problem will be and if the base cases of the recursion are small enough primes, efficient FFT algorithms exist. If we are stuck with large prime sizes, then we have to use less efficient algorithms, which we will get to later.\n",
    "\n",
    "Below is some code for obtaining the prime factorization of a number and determining if it is n-smooth:"
   ],
   "metadata": {
    "collapsed": false,
    "pycharm": {
     "name": "#%% md\n"
    }
   }
  },
  {
   "cell_type": "code",
   "execution_count": 49,
   "outputs": [],
   "source": [
    "from primesieve.numpy import primes\n",
    "\n",
    "def get_prime_factorization(integer: int) -> np.ndarray:\n",
    "    end = np.ceil(np.sqrt(integer))\n",
    "    factorization = list()\n",
    "    prime_array = primes(end)\n",
    "    new_int = integer\n",
    "    for p in prime_array:\n",
    "        if new_int % p == 0:\n",
    "            while new_int % p == 0:\n",
    "                factorization.append(p)\n",
    "                new_int /= p\n",
    "    return factorization\n",
    "\n",
    "def is_n_smooth(integer: int, n: int) -> bool:\n",
    "    factorization = get_prime_factorization(integer)\n",
    "    if factorization:\n",
    "        return True if max(factorization) <= n else False\n",
    "    else:\n",
    "        return False"
   ],
   "metadata": {
    "collapsed": false,
    "pycharm": {
     "name": "#%%\n"
    }
   }
  },
  {
   "cell_type": "markdown",
   "source": [
    "##### Twiddle Factors\n",
    "\n",
    "A twiddle factor is another key concept that we need to understand for Fast-Fourier transform algorithms.\n",
    "\n",
    "First, let's talk about what a ***root of unity*** is.\n",
    "\n",
    "An nth root of unity is a number $z$ satisfying the equation\n",
    "\n",
    "$$ z^{n} = 1$$.\n",
    "\n",
    "The roots of unity are usually taken to be complex numbers. In such a case, we can find the nth roots of unity by computing\n",
    "\n",
    "$$exp \\left ( i2\\pi k/N \\right ) = cos \\left ( \\frac{2\\pi k}{N} \\right ) + i \\ sin \\left ( \\frac{2\\pi k}{N} \\right), \\ k = 0,1,...,n-1$$\n",
    "\n",
    "$$w_{N}^{k} = e^{-i2\\pi k/N} = cos \\left ( \\frac{2\\pi k}{N} \\right ) - i \\ sin \\left ( \\frac{2\\pi k}{N} \\right)$$\n",
    "\n",
    "##### Cooley-Tukey FFT Algorithm\n",
    "\n",
    "The Cooley-Tukey family of algorithms are the most common FFT algorithms. It expresses the DFT of an arbitrary composite size $N = N_{1}N_{2}$ in terms of $N_{1}$ smaller DFTs of sizes $N_{2}$, recursively, to reduce the computation time to $\\mathcal{O}(n \\ log(n))$ for highly composite $N$.\n",
    "\n",
    "Cooley-Tukey algorithms recursively re-express a DFT of a composite size $N = N_{1}N_{2}$ as:\n",
    "\n",
    "1) Perform $N_{1}$ DFTs of size $N_{2}$\n",
    "2) Multiply by twiddle factors (we'll get to those in a bit)\n",
    "3) Perform $N_{2}$ DFTs of size $N_{1}$\n",
    "\n",
    "Typically, either $N_{1}$ or $N_{2}$ is a small integer factor, called the ***radix***, which can differ between stages of the recursion. If $N_{1}$ is the radix, the algorithm is called a ***decimation in time*** (DIT) algorithm. If the $N_{2}$ is the radix, the algorithm is called a ***decimation in frequency*** (DIF) algorithm.\n",
    "\n",
    "To be continued..."
   ],
   "metadata": {
    "collapsed": false,
    "pycharm": {
     "name": "#%% md\n"
    }
   }
  },
  {
   "cell_type": "code",
   "execution_count": 50,
   "outputs": [],
   "source": [
    "dt = 0.001\n",
    "t = np.arange(0,1,dt)\n",
    "f = np.sin(2*np.pi*50*t) + np.sin(2*np.pi*120*t)\n",
    "f_clean = f\n",
    "f = f + 2.5*np.random.randn(len(t))"
   ],
   "metadata": {
    "collapsed": false,
    "pycharm": {
     "name": "#%%\n"
    }
   }
  },
  {
   "cell_type": "code",
   "execution_count": 51,
   "outputs": [],
   "source": [
    "n = len(t)\n",
    "fhat = np.fft.fft(f,n)\n",
    "PSD = fhat * np.conj(fhat) / n\n",
    "freq = (1/(dt*n)) * np.arange(n)\n",
    "L = np.arange(1,np.floor(n/2),dtype='int')"
   ],
   "metadata": {
    "collapsed": false,
    "pycharm": {
     "name": "#%%\n"
    }
   }
  },
  {
   "cell_type": "code",
   "execution_count": 52,
   "outputs": [],
   "source": [
    "indices = PSD > 100\n",
    "PSDclean = PSD * indices\n",
    "fhat = indices * fhat\n",
    "ffilt = np.fft.ifft(fhat)"
   ],
   "metadata": {
    "collapsed": false,
    "pycharm": {
     "name": "#%%\n"
    }
   }
  },
  {
   "cell_type": "code",
   "execution_count": null,
   "outputs": [],
   "source": [],
   "metadata": {
    "collapsed": false,
    "pycharm": {
     "name": "#%%\n"
    }
   }
  },
  {
   "cell_type": "markdown",
   "source": [
    "##### Spectral Derivatives"
   ],
   "metadata": {
    "collapsed": false,
    "pycharm": {
     "name": "#%% md\n"
    }
   }
  },
  {
   "cell_type": "code",
   "execution_count": 63,
   "outputs": [],
   "source": [
    "# Check original code. Something isn't right here.\n",
    "\n",
    "n=128\n",
    "L = 30\n",
    "dx = L/n\n",
    "x = np.arange(-L/2,L/2,dx)\n",
    "f = np.cos(x) * np.exp(-np.power(x,2)/25)\n",
    "df = -np.sin(x)*np.exp(-np.power(x,2)/25) + (2/25)*x*f\n",
    "\n",
    "fhat = np.fft.fft(f)\n",
    "kappa = (2*np.pi/L)*np.arange(-n/2,n/2)\n",
    "kappa = np.fft.fftshift(kappa)\n",
    "dfhat = kappa * fhat * (1j)\n",
    "dfFFt = np.real(np.fft.ifft(dfhat))"
   ],
   "metadata": {
    "collapsed": false,
    "pycharm": {
     "name": "#%%\n"
    }
   }
  },
  {
   "cell_type": "code",
   "execution_count": 64,
   "outputs": [
    {
     "data": {
      "text/plain": "array([ 0.00000000e+00,  5.75297127e-06,  1.10107107e-04,  2.21167079e-04,\n        4.00909014e-04,  6.11132905e-04,  8.77016844e-04,  1.15819199e-03,\n        1.44704482e-03,  1.68083250e-03,  1.81320706e-03,  1.75015476e-03,\n        1.41012659e-03,  6.79264943e-04, -5.30869682e-04, -2.31028545e-03,\n       -4.69112386e-03, -7.66058326e-03, -1.11024576e-02, -1.48058297e-02,\n       -1.84187026e-02, -2.14694446e-02, -2.33502032e-02, -2.33709899e-02,\n       -2.07894158e-02, -1.49097198e-02, -5.16119530e-03,  8.76702309e-03,\n        2.68237634e-02,  4.84657057e-02,  7.25876050e-02,  9.74641929e-02,\n        1.20785947e-01,  1.39742224e-01,  1.51217907e-01,  1.52047102e-01,\n        1.39364005e-01,  1.10976029e-01,  6.57703726e-02,  4.06279750e-03,\n       -7.21191689e-02, -1.58909923e-01, -2.50640158e-01, -3.40097144e-01,\n       -4.18983157e-01, -4.78587247e-01, -5.10593690e-01, -5.07986031e-01,\n       -4.65927837e-01, -3.82544161e-01, -2.59476914e-01, -1.02148244e-01,\n        8.03527802e-02,  2.75766717e-01,  4.69545004e-01,  6.46036192e-01,\n        7.89888293e-01,  8.87516259e-01,  9.28492708e-01,  9.06695620e-01,\n        8.21086785e-01,  6.76012098e-01,  4.80980506e-01,  2.49922727e-01,\n        0.00000000e+00, -2.49922727e-01, -4.80980506e-01, -6.76012098e-01,\n       -8.21086785e-01, -9.06695620e-01, -9.28492708e-01, -8.87516259e-01,\n       -7.89888293e-01, -6.46036192e-01, -4.69545004e-01, -2.75766717e-01,\n       -8.03527802e-02,  1.02148244e-01,  2.59476914e-01,  3.82544161e-01,\n        4.65927837e-01,  5.07986031e-01,  5.10593690e-01,  4.78587247e-01,\n        4.18983157e-01,  3.40097144e-01,  2.50640158e-01,  1.58909923e-01,\n        7.21191689e-02, -4.06279750e-03, -6.57703726e-02, -1.10976029e-01,\n       -1.39364005e-01, -1.52047102e-01, -1.51217907e-01, -1.39742224e-01,\n       -1.20785947e-01, -9.74641929e-02, -7.25876050e-02, -4.84657057e-02,\n       -2.68237634e-02, -8.76702309e-03,  5.16119530e-03,  1.49097198e-02,\n        2.07894158e-02,  2.33709899e-02,  2.33502032e-02,  2.14694446e-02,\n        1.84187026e-02,  1.48058297e-02,  1.11024576e-02,  7.66058326e-03,\n        4.69112386e-03,  2.31028545e-03,  5.30869682e-04, -6.79264943e-04,\n       -1.41012659e-03, -1.75015476e-03, -1.81320706e-03, -1.68083250e-03,\n       -1.44704482e-03, -1.15819199e-03, -8.77016844e-04, -6.11132905e-04,\n       -4.00909014e-04, -2.21167079e-04, -1.10107107e-04, -5.75297127e-06])"
     },
     "execution_count": 64,
     "metadata": {},
     "output_type": "execute_result"
    }
   ],
   "source": [
    "dfFFt"
   ],
   "metadata": {
    "collapsed": false,
    "pycharm": {
     "name": "#%%\n"
    }
   }
  },
  {
   "cell_type": "code",
   "execution_count": null,
   "outputs": [],
   "source": [],
   "metadata": {
    "collapsed": false,
    "pycharm": {
     "name": "#%%\n"
    }
   }
  }
 ],
 "metadata": {
  "kernelspec": {
   "display_name": "Python 3",
   "language": "python",
   "name": "python3"
  },
  "language_info": {
   "codemirror_mode": {
    "name": "ipython",
    "version": 2
   },
   "file_extension": ".py",
   "mimetype": "text/x-python",
   "name": "python",
   "nbconvert_exporter": "python",
   "pygments_lexer": "ipython2",
   "version": "2.7.6"
  }
 },
 "nbformat": 4,
 "nbformat_minor": 0
}