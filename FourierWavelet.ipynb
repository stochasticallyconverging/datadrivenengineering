{
 "cells": [
  {
   "cell_type": "code",
   "execution_count": 2,
   "metadata": {
    "collapsed": true,
    "pycharm": {
     "name": "#%%\n"
    }
   },
   "outputs": [],
   "source": [
    "import os\n",
    "\n",
    "import numpy as np\n",
    "import matplotlib.pyplot as plt"
   ]
  },
  {
   "cell_type": "markdown",
   "source": [
    "# Fourier and Wavelet Transforms notes from Brunton & Kutz, 2022"
   ],
   "metadata": {
    "collapsed": false,
    "pycharm": {
     "name": "#%% md\n"
    }
   }
  },
  {
   "cell_type": "markdown",
   "source": [
    "*Paraphrased from the Textbook*:\n",
    "\n",
    "A central concern of mathematical physics and engineering mathematics involves the transformation of equations into a coordinate system where expressions simplify, decouple and are amenable to computation and analysis. Perhaps the most foundational and ubiquitous coordinate transformation was introduced by Fourier in the early 1800s to investigate the theory of heat.\n",
    "\n",
    "Fourier introduced the concept that sine and cosine functions of increasing frequency provide an orthogonal basis for the space of solution functions. Indeed, the ***Fourier transform*** basis of sines and cosines are eigenfunctions of the heat equation, with the specific frequencies serving as the eigenvalues, determined by the geometry, and amplitudes determined by the boundary conditions.\n",
    "\n",
    "The ***fast Fourier transform*** has become the cornerstone of computational mathematics, enabling real-time image and audio compression, global communication networks, modern devices and hardware, numerical physics and engineering at scale and advanced data analysis.\n",
    "\n",
    "With increasingly complex problems, data sets and computational geometries, simple Fourier sine and cosine bases have given way to *tailored* bases, such as the data-driven SVD. In addition, related functions, called ***wavelets***, have been developed for advanced signal processing and compression efforts."
   ],
   "metadata": {
    "collapsed": false,
    "pycharm": {
     "name": "#%% md\n"
    }
   }
  },
  {
   "cell_type": "markdown",
   "source": [
    "## Fourier Series and Fourier Transforms"
   ],
   "metadata": {
    "collapsed": false,
    "pycharm": {
     "name": "#%% md\n"
    }
   }
  },
  {
   "cell_type": "markdown",
   "source": [
    "So we looked through SVDs last time. With the SVD, we first used our data matrix $A$ to compute the correlation matrices $A^{T}A$ and $AA^{T}$. $A^{T}A$ is the correlation matrix of A and $AA^{T}$ was the row-wise correlation matrix of A. Why does that matter? Well imagine that the rows are ordered by time and the columns are spatial variables. You want to \"decouple\" the time components away from the spatial components. After we computed our correlation matrices, we found an eigenbasis and set of eigenvalues for both $A^{T}A$ and $AA^{T}$, along with the eigenvalues that accompany each basis vector.\n",
    "\n",
    "Luckily for us, it turns that ${A^{T}A$ and $AA^{T}$ have the same eigenvalues, so we only have to worry about the different eigenbases for the column-wise and row-wise correlation matrices.\n",
    "\n",
    "Eigenbases don't necessarily have to be sets of list-like vectors, but can instead be eigenfunctions. Fourier series are a prime example of exactly this, so let's take a look at that.\n",
    "\n",
    "Fourier methods rely on the notion of a *Hilbert space*, which is essentially a generalization of the familiar vector space concept to include functions with infinitely many degrees of freedom.\n",
    "\n",
    "You don't have to intimately understand the idea of induced norms and function spaces to get the basic idea. In the prior SVD case, we are concerned with coordinate systems defined by a basis of orthogonal vectors from $R^{N}$ or $C^{N}$. In this case, we are going to be concerned with coordinate systems defined by a basis of orthogonal functions (which are also vectors).\n",
    "\n",
    "Just like we were interested in projecting vectors into a new coordinate system with SVD, we are going to be interested in projecting functions into a new coordinate system with Fourier methods. A *Fourier Series* representation of a function is its projection onto the orthogonal set of sine and cosine functions with integer period on the domain $[a, b]$."
   ],
   "metadata": {
    "collapsed": false,
    "pycharm": {
     "name": "#%% md\n"
    }
   }
  },
  {
   "cell_type": "markdown",
   "source": [
    "### A New Exclusive Limited Series Brought To You By The Baguette People Of Western Europe"
   ],
   "metadata": {
    "collapsed": false,
    "pycharm": {
     "name": "#%% md\n"
    }
   }
  },
  {
   "cell_type": "markdown",
   "source": [
    "<p align=\"center\">\n",
    "    <img src=\"images\\Fourier2_-_restoration1.jpg\" caption=\"Rare\">\n",
    "</p>\n",
    "<p align = \"center\">\n",
    "    <figcaption align = \"center\"> Fig.1 - Rare Picture Of European Man Smiling </figcaption>\n",
    "</p>"
   ],
   "metadata": {
    "collapsed": false,
    "pycharm": {
     "name": "#%% md\n"
    }
   }
  },
  {
   "cell_type": "markdown",
   "source": [
    "If $f(x)$ is periodic and piecewise smooth, then it can be written in terms of a Fourier series, which is an infinite sum of cosines and sines of increasing frequency. In particular, if $f(x)$ is $2\\pi$-periodic, it may be written as\n",
    "\n",
    "$$ f(x) = \\frac{a_{0}}{2} + \\sum_{k=1}^{\\infty}(a_{k}cos(kx) + b_{k}sin(kx)). $$\n",
    "\n",
    "The coefficients $a_{k}$ and $b_{k}$ are the coordinates obtained by projecting f onto the orthogonal cosine and sine basis $\\{cos(kx),sin(kx)\\}_{0}^{\\infty}$:\n",
    "\n",
    "\\begin{aligned}\n",
    "a_{k} = \\frac{1}{\\pi}\\int_{-\\pi}^{\\pi}f(x)cos(kx)dx \\\\\n",
    "b_{k} = \\frac{1}{\\pi}\\int_{-\\pi}^{\\pi}f(x)sin(kx)dx\n",
    "\\end{aligned}\n",
    "\n",
    "In other words, the integrals may be rewritten in terms of the inner product as\n",
    "\n",
    "\\begin{aligned}\n",
    "    a_{k} = \\frac{1}{||cos(kx)||^{2}} \\langle f(x),cos(kx) \\rangle, \\\\\n",
    "    b_{k} = \\frac{1}{||sin(kx)||^{2}} \\langle f(x),sin(kx) \\rangle,\n",
    "\\end{aligned}\n",
    "\n",
    "where $||cos(kx)||^{2} = ||sin(kx)||^{2} = \\pi$. The factor of $\\frac{1}{\\pi}$ can be verified by numerically integrating $cos(x)^{2}$ and $sin(x)^{2}$ from $-\\pi$ to $\\pi$.\n",
    "\n",
    "We can generalize this to a Fourier series of an L-periodic function on $[0,L)$ with\n",
    "\n",
    "\\begin{aligned}\n",
    "f(x) = \\frac{a_{0}}{2} + \\sum_{k=1}^{\\infty}(a_{k}cos(\\frac{2\\pi kx}{L}) + b_{k}sin(\\frac{2\\pi kx}{L})), \\\\\n",
    "a_{k} = \\frac{2}{L}\\int_{0}^{L}f(x)cos(\\frac{2\\pi kx}{L})dx \\\\\n",
    "b_{k} = \\frac{2}{L}\\int_{0}^{L}f(x)sin(\\frac{2\\pi kx}{L})dx\n",
    "\\end{aligned}\n",
    "\n",
    "We can simplify this representation using Euler's formula $e^{ikx} = cos(kx) + isin(kx)$ to write a Fourier series in complex form with complex coefficients $c_{k} = \\alpha_{k} + i\\beta_{k}$:\n",
    "\n",
    "\\begin{aligned}\n",
    "f(x) = \\sum_{k = -\\infty}^{\\infty}(\\alpha_{k} + i\\beta_{k})(cos(kx) + isin(kx)) \\\\\n",
    "= (\\alpha_{0} + i\\beta_{0}) + \\sum_{k = 1}^{\\infty}[(\\alpha_{-k} + \\alpha_{k})cos(kx)+(\\beta_{-k} + \\beta_{k})sin(kx)] \\\\\n",
    "+ i\\sum_{k=1}^{\\infty}[(\\beta_{-k} + \\beta_{k})cos(kx)-(\\alpha_{-k}-\\alpha_{k})sin(kx)]\n",
    "\\end{aligned}.\n",
    "\n",
    "If $f(x)$ is real-valued, then $\\alpha_{-k} = \\alpha_{k}$ and $\\beta_{-k} = -\\beta_{k}$, so that $c_{-k} = \\overline{c}_{k}$.\n",
    "\n",
    "$\\psi$"
   ],
   "metadata": {
    "collapsed": false,
    "pycharm": {
     "name": "#%% md\n"
    }
   }
  },
  {
   "cell_type": "code",
   "execution_count": 3,
   "outputs": [
    {
     "data": {
      "text/plain": "[]"
     },
     "execution_count": 3,
     "metadata": {},
     "output_type": "execute_result"
    },
    {
     "data": {
      "text/plain": "<Figure size 432x288 with 1 Axes>",
      "image/png": "[encoded data removed]"
     },
     "metadata": {
      "needs_background": "light"
     },
     "output_type": "display_data"
    }
   ],
   "source": [
    "# Define domain\n",
    "\n",
    "dx = 0.001\n",
    "L = np.pi\n",
    "x = L * np.arange(-1+dx, 1+dx, dx)\n",
    "n = len(x)\n",
    "nquart = int(np.floor(n/4))\n",
    "\n",
    "# Define hat function\n",
    "f = np.zeros_like(x)\n",
    "f[nquart:2*nquart] = (4/n)*np.arange(1,nquart+1)\n",
    "f[2*nquart:3*nquart] = np.ones(nquart) - (4/n)*np.arange(0,nquart)\n",
    "\n",
    "# Compute Fourier series\n",
    "A0 = np.sum(f * np.ones_like(x)) * dx\n",
    "fFS = A0/2\n",
    "\n",
    "A = np.zeros(20)\n",
    "B = np.zeros(20)\n",
    "for k in range(20):\n",
    "    A[k] = np.sum(f * np.cos(np.pi * (k+1) * x/L)) * dx  # Inner Product\n",
    "    B[k] = np.sum(f * np.sin(np.pi * (k+1) * x/L)) * dx\n",
    "    fFS = fFS + A[k] * np.cos((k+1)*np.pi*x/L)  +B[k]*np.sin((k+1)*np.pi*x/L)\n",
    "    plt.plot(x, fFS, '-')\n",
    "\n",
    "plt.plot()\n"
   ],
   "metadata": {
    "collapsed": false,
    "pycharm": {
     "name": "#%%\n"
    }
   }
  },
  {
   "cell_type": "markdown",
   "source": [],
   "metadata": {
    "collapsed": false,
    "pycharm": {
     "name": "#%% md\n"
    }
   }
  },
  {
   "cell_type": "code",
   "execution_count": 5,
   "outputs": [
    {
     "ename": "SyntaxError",
     "evalue": "invalid syntax (1062418843.py, line 1)",
     "output_type": "error",
     "traceback": [
      "\u001B[1;36m  Input \u001B[1;32mIn [5]\u001B[1;36m\u001B[0m\n\u001B[1;33m    jupyter nbextension enable equation-numbering/main\u001B[0m\n\u001B[1;37m            ^\u001B[0m\n\u001B[1;31mSyntaxError\u001B[0m\u001B[1;31m:\u001B[0m invalid syntax\n"
     ]
    }
   ],
   "source": [],
   "metadata": {
    "collapsed": false,
    "pycharm": {
     "name": "#%%\n"
    }
   }
  }
 ],
 "metadata": {
  "kernelspec": {
   "display_name": "Python 3",
   "language": "python",
   "name": "python3"
  },
  "language_info": {
   "codemirror_mode": {
    "name": "ipython",
    "version": 2
   },
   "file_extension": ".py",
   "mimetype": "text/x-python",
   "name": "python",
   "nbconvert_exporter": "python",
   "pygments_lexer": "ipython2",
   "version": "2.7.6"
  }
 },
 "nbformat": 4,
 "nbformat_minor": 0
}